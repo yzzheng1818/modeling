{
 "cells": [
  {
   "cell_type": "markdown",
   "id": "370cb154-2c56-44ce-8847-8e2c9f7a4a22",
   "metadata": {},
   "source": [
    "# Data extraction\n",
    "This notebook contains the code to run the data extraction. After this step raw data should be saved to .data folder and not significantly altered before saving. \n"
   ]
  },
  {
   "cell_type": "code",
   "execution_count": null,
   "id": "89e171b2-4703-4ccc-9732-c39ffb44ad8d",
   "metadata": {},
   "outputs": [],
   "source": [
    "import pandas as pd\n",
    "import numpy as np\n",
    "import os\n",
    "\n",
    "# make your functions auto-refresh:\n",
    "%load_ext autoreload\n",
    "%autoreload 2\n",
    "\n",
    "# load in secrets from .env (read more at http://drivendata.github.io/cookiecutter-data-science/#keep-secrets-and-configuration-out-of-version-control)\n",
    "%load_ext dotenv\n",
    "%dotenv"
   ]
  },
  {
   "cell_type": "markdown",
   "id": "04bf4059-27e7-4d3d-9d74-69ca5bba381e",
   "metadata": {},
   "source": [
    "## Bring your Python meta data objects into memory"
   ]
  },
  {
   "cell_type": "code",
   "execution_count": null,
   "id": "5ced880d-dcaa-4d84-9212-7041184221af",
   "metadata": {},
   "outputs": [],
   "source": [
    "from src.definitions import *\n",
    "from src.helpers import *"
   ]
  },
  {
   "cell_type": "markdown",
   "id": "d82cf651-8860-4681-a9cf-5b2fd676d2ee",
   "metadata": {},
   "source": [
    "## Source data\n",
    "\n",
    "Use the definitions.py file to specify anything you need to source your data. Including:\n",
    " * Flat file names \n",
    " * tags and other params for API calls\n",
    " \n",
    "If you are using flat files use the ``RAW_DATA_DIR`` object which was created in the definitions.py"
   ]
  },
  {
   "cell_type": "code",
   "execution_count": null,
   "id": "1de2071c-2c07-467c-9733-b70af4f1723e",
   "metadata": {},
   "outputs": [],
   "source": []
  },
  {
   "cell_type": "markdown",
   "id": "5f7a94d6-5dfe-45bd-aaee-e9fd17f3d72c",
   "metadata": {},
   "source": [
    "## Data formatting\n",
    "\n",
    "Perform very basic data formatting here, so you only need to do it once here. For example:\n",
    "* Change column types. Example: string of datetimes to a pd datetime\n",
    "* Clean up bad column names\n"
   ]
  },
  {
   "cell_type": "code",
   "execution_count": null,
   "id": "6a6bf6a2-9427-4a11-83a7-d11bc96f625d",
   "metadata": {},
   "outputs": [],
   "source": []
  },
  {
   "cell_type": "markdown",
   "id": "c36fa622-7e91-4269-aa3c-662285175710",
   "metadata": {},
   "source": [
    "## Save raw data\n",
    "Save your raw data out to the relevant folder in your ./data folder. It will probably be the ``RAW_DATA_DIR`` path. \n",
    "\n",
    "Use the definitions.py file to specify file name formats (``RAW_DF_FILE`` object). Use **parquet** (pd.to_parquet()) format for file compression. Remember to remove any special index's you created before compression.\n"
   ]
  },
  {
   "cell_type": "code",
   "execution_count": null,
   "id": "d7c0ad39-6bfe-47ab-a28f-b26fcc80133f",
   "metadata": {},
   "outputs": [],
   "source": []
  }
 ],
 "metadata": {
  "kernelspec": {
   "display_name": "WELpy3.7",
   "language": "python",
   "name": "welpy3.7"
  },
  "language_info": {
   "codemirror_mode": {
    "name": "ipython",
    "version": 3
   },
   "file_extension": ".py",
   "mimetype": "text/x-python",
   "name": "python",
   "nbconvert_exporter": "python",
   "pygments_lexer": "ipython3",
   "version": "3.7.9"
  }
 },
 "nbformat": 4,
 "nbformat_minor": 5
}
