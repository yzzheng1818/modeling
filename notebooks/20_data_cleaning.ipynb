{
 "cells": [
  {
   "cell_type": "markdown",
   "id": "370cb154-2c56-44ce-8847-8e2c9f7a4a22",
   "metadata": {},
   "source": [
    "# Data cleaning\n",
    "This notebook contains the code to clean the data. After the step save the data out.\n",
    "\n",
    "Use parquet for file compression."
   ]
  },
  {
   "cell_type": "code",
   "execution_count": null,
   "id": "89e171b2-4703-4ccc-9732-c39ffb44ad8d",
   "metadata": {},
   "outputs": [],
   "source": [
    "import pandas as pd\n",
    "import os\n",
    "\n",
    "# make your functions auto-refresh:\n",
    "%load_ext autoreload\n",
    "%autoreload 2\n",
    "\n",
    "# load in secrets from .env (read more http://drivendata.github.io/cookiecutter-data-science/#keep-secrets-and-configuration-out-of-version-control)\n",
    "%load_ext dotenv\n",
    "%dotenv\n",
    "# secret = os.environ.get(\"SECRET\")"
   ]
  },
  {
   "cell_type": "markdown",
   "id": "04bf4059-27e7-4d3d-9d74-69ca5bba381e",
   "metadata": {},
   "source": [
    "## Bring your Python meta data objects into memory"
   ]
  },
  {
   "cell_type": "code",
   "execution_count": null,
   "id": "5ced880d-dcaa-4d84-9212-7041184221af",
   "metadata": {},
   "outputs": [],
   "source": [
    "from src.definitions import *\n",
    "from src.helpers import *"
   ]
  },
  {
   "cell_type": "markdown",
   "id": "d82cf651-8860-4681-a9cf-5b2fd676d2ee",
   "metadata": {},
   "source": [
    "## Read in the raw data from 10_raw folder\n",
    "\n",
    "Use the definitions.py file to specify anything you need to source your data. Use the ``RAW_DATA_DIR`` and ``RAW_DF_FILE`` object which was created in the definitions.py "
   ]
  },
  {
   "cell_type": "code",
   "execution_count": null,
   "id": "1de2071c-2c07-467c-9733-b70af4f1723e",
   "metadata": {},
   "outputs": [],
   "source": []
  },
  {
   "attachments": {},
   "cell_type": "markdown",
   "id": "9a3f4e73-88d4-4040-932a-ce91410323f4",
   "metadata": {},
   "source": [
    "## Perform cleaning process\n",
    "\n",
    "Do you coworkers and your future self a favour and comment your data cleaning 🙏.\n",
    "\n",
    "This is perhaps the most important part of the whole project, because data cleaning knowledge is hard to extract from subject matter experts, hard to communicate, and hard to understand. So please share your understanding and reasoning."
   ]
  },
  {
   "cell_type": "code",
   "execution_count": null,
   "id": "45f43fb0-6fc9-4ba9-8242-21937ba8175a",
   "metadata": {},
   "outputs": [],
   "source": []
  },
  {
   "cell_type": "markdown",
   "id": "c36fa622-7e91-4269-aa3c-662285175710",
   "metadata": {},
   "source": [
    "## Save cleaned data\n",
    "Use the definitions.py file to specify anything you need to save your data. Use the ``CLEANED_DATA_DIR`` and ``CLEANED_DF_FILE`` object which was created in the definitions.py.\n",
    "\n",
    "Remember to use parquet and remove any special index before exporting the data frames\n"
   ]
  },
  {
   "cell_type": "code",
   "execution_count": null,
   "id": "36cf0c2f-350e-4c94-9b82-3dbe0419cd64",
   "metadata": {},
   "outputs": [],
   "source": []
  }
 ],
 "metadata": {
  "kernelspec": {
   "display_name": "local-venv",
   "language": "python",
   "name": "local-venv"
  },
  "language_info": {
   "codemirror_mode": {
    "name": "ipython",
    "version": 3
   },
   "file_extension": ".py",
   "mimetype": "text/x-python",
   "name": "python",
   "nbconvert_exporter": "python",
   "pygments_lexer": "ipython3",
   "version": "3.7.9"
  }
 },
 "nbformat": 4,
 "nbformat_minor": 5
}
